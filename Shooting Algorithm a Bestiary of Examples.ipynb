{
 "cells": [
  {
   "cell_type": "code",
   "execution_count": 1,
   "metadata": {},
   "outputs": [],
   "source": [
    "# Standard imported packages\n",
    "import numpy as np  \n",
    "import symengine as sp\n",
    "from matplotlib import pyplot as plt\n",
    "\n",
    "# Tools from Bocop's Python API\n",
    "from BocopUtils import readSolFile\n",
    "\n",
    "# Tools from our\n",
    "from symengine_function import gradient, lie_bracket, xp_bracket\n",
    "from shooting import shooting\n",
    "#from sympy.parsing.sympy_parser import parse_expr"
   ]
  },
  {
   "cell_type": "code",
   "execution_count": null,
   "metadata": {},
   "outputs": [],
   "source": []
  }
 ],
 "metadata": {
  "kernelspec": {
   "display_name": "Python 3",
   "language": "python",
   "name": "python3"
  },
  "language_info": {
   "codemirror_mode": {
    "name": "ipython",
    "version": 3
   },
   "file_extension": ".py",
   "mimetype": "text/x-python",
   "name": "python",
   "nbconvert_exporter": "python",
   "pygments_lexer": "ipython3",
   "version": "3.8.2"
  }
 },
 "nbformat": 4,
 "nbformat_minor": 4
}
